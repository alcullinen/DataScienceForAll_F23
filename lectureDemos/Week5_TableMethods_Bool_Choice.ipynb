{
 "cells": [
  {
   "cell_type": "code",
   "execution_count": null,
   "id": "86f21ac6",
   "metadata": {},
   "outputs": [],
   "source": [
    "from datascience import *\n",
    "import numpy as np\n",
    "\n",
    "%matplotlib inline\n",
    "import matplotlib.pyplot as plots\n",
    "plots.style.use('fivethirtyeight')"
   ]
  },
  {
   "cell_type": "markdown",
   "id": "cc5c3d0b",
   "metadata": {},
   "source": [
    "## Bikes"
   ]
  },
  {
   "cell_type": "markdown",
   "id": "c228a016",
   "metadata": {},
   "source": [
    "**Please run all cells before this cell, including the previous example cells and the import cell at the top of the notebook.**"
   ]
  },
  {
   "cell_type": "code",
   "execution_count": null,
   "id": "b68a0ecd",
   "metadata": {},
   "outputs": [],
   "source": [
    "trips = Table.read_table('trips_2.csv')\n",
    "trips"
   ]
  },
  {
   "cell_type": "code",
   "execution_count": null,
   "id": "96490c12",
   "metadata": {},
   "outputs": [],
   "source": [
    "# Remember that these bikes were used generally for 30 \n",
    "# minutes or less: 30*60 = 1800 seconds\n",
    "\n",
    "commute = trips.where('Duration', are.below(1800))\n",
    "commute.hist('Duration')"
   ]
  },
  {
   "cell_type": "code",
   "execution_count": null,
   "id": "6b83f39a",
   "metadata": {},
   "outputs": [],
   "source": [
    "commute.hist('Duration', bins=60, unit='second')"
   ]
  },
  {
   "cell_type": "code",
   "execution_count": null,
   "id": "d39388b9",
   "metadata": {},
   "outputs": [],
   "source": [
    "# what is the area of this peak here?  What percentage of all \n",
    "# the trips in the data does this represent?  "
   ]
  },
  {
   "cell_type": "code",
   "execution_count": null,
   "id": "92acae19",
   "metadata": {},
   "outputs": [],
   "source": [
    "starts = commute.group('Start Station').sort('count', descending=True)\n",
    "starts"
   ]
  },
  {
   "cell_type": "code",
   "execution_count": null,
   "id": "711e2dc0",
   "metadata": {},
   "outputs": [],
   "source": [
    "commute.pivot('Start Station', 'End Station')"
   ]
  },
  {
   "cell_type": "code",
   "execution_count": null,
   "id": "72a490d7",
   "metadata": {},
   "outputs": [],
   "source": [
    "trips.show(3)"
   ]
  },
  {
   "cell_type": "code",
   "execution_count": null,
   "id": "fd656bcb",
   "metadata": {},
   "outputs": [],
   "source": [
    "duration = commute.select(3, 6, 1)\n",
    "duration"
   ]
  },
  {
   "cell_type": "code",
   "execution_count": null,
   "id": "37d34fb8",
   "metadata": {},
   "outputs": [],
   "source": [
    "shortest = duration.group([0, 1], min)\n",
    "shortest"
   ]
  },
  {
   "cell_type": "code",
   "execution_count": null,
   "id": "c75436c4",
   "metadata": {},
   "outputs": [],
   "source": [
    "from_cc = shortest.where(0, are.containing('Civic Center BART')).sort(2)\n",
    "from_cc"
   ]
  },
  {
   "cell_type": "markdown",
   "id": "80d5e31f",
   "metadata": {},
   "source": [
    "## Maps"
   ]
  },
  {
   "cell_type": "markdown",
   "id": "966df550",
   "metadata": {},
   "source": [
    "**Please run all cells before this cell, including the previous example cells and the import cell at the top of the notebook.**"
   ]
  },
  {
   "cell_type": "code",
   "execution_count": null,
   "id": "10d9207b",
   "metadata": {},
   "outputs": [],
   "source": [
    "stations = Table.read_table('station.csv')\n",
    "stations"
   ]
  },
  {
   "cell_type": "code",
   "execution_count": null,
   "id": "535d346e",
   "metadata": {},
   "outputs": [],
   "source": [
    "Marker.map_table(stations.select('lat', 'long', 'name'))"
   ]
  },
  {
   "cell_type": "code",
   "execution_count": null,
   "id": "96cd4655",
   "metadata": {},
   "outputs": [],
   "source": [
    "sf = stations.where('landmark', 'San Francisco')\n",
    "Circle.map_table(sf.select('lat', 'long', 'name'), color='green', radius=150)"
   ]
  },
  {
   "cell_type": "code",
   "execution_count": null,
   "id": "4a9540bb",
   "metadata": {},
   "outputs": [],
   "source": [
    "from_cc"
   ]
  },
  {
   "cell_type": "code",
   "execution_count": null,
   "id": "2a6aa51b",
   "metadata": {},
   "outputs": [],
   "source": [
    "stations.group('landmark')"
   ]
  },
  {
   "cell_type": "code",
   "execution_count": null,
   "id": "2de5ac1a",
   "metadata": {},
   "outputs": [],
   "source": [
    "colors = stations.group('landmark').with_column(\n",
    "    'color', make_array('blue', 'red', 'green', 'orange', 'purple'))\n",
    "colors"
   ]
  },
  {
   "cell_type": "code",
   "execution_count": null,
   "id": "c58e4533",
   "metadata": {},
   "outputs": [],
   "source": [
    "stations.join('landmark', colors)"
   ]
  },
  {
   "cell_type": "code",
   "execution_count": null,
   "id": "f4884118",
   "metadata": {},
   "outputs": [],
   "source": [
    "map_table = stations.join('landmark', colors).select('lat', 'long', 'name', 'color')\n",
    "Marker.map_table(map_table)"
   ]
  },
  {
   "cell_type": "code",
   "execution_count": null,
   "id": "2abf1747",
   "metadata": {},
   "outputs": [],
   "source": [
    "station_starts = stations.join('name', starts, 'Start Station')\n",
    "station_starts"
   ]
  },
  {
   "cell_type": "code",
   "execution_count": null,
   "id": "d2960744",
   "metadata": {},
   "outputs": [],
   "source": [
    "station_starts.select('lat', 'long', 'name').with_columns(\n",
    "    'color', 'blue',\n",
    "    'area', station_starts.column('count') * 1000\n",
    ")"
   ]
  },
  {
   "cell_type": "code",
   "execution_count": null,
   "id": "7f11780f",
   "metadata": {
    "scrolled": true
   },
   "outputs": [],
   "source": [
    "Circle.map_table(station_starts.select('lat', 'long', 'name').with_columns(\n",
    "    'color', 'blue',\n",
    "    'area', station_starts.column('count') \n",
    "))"
   ]
  },
  {
   "cell_type": "markdown",
   "id": "20b2ece9",
   "metadata": {},
   "source": [
    "## Combining Table Methods"
   ]
  },
  {
   "cell_type": "code",
   "execution_count": null,
   "id": "939c2928",
   "metadata": {},
   "outputs": [],
   "source": [
    "duration"
   ]
  },
  {
   "cell_type": "code",
   "execution_count": null,
   "id": "4cef1cb3",
   "metadata": {},
   "outputs": [],
   "source": [
    "#the value of the average duration of a rental.\n"
   ]
  },
  {
   "cell_type": "code",
   "execution_count": null,
   "id": "c444f254",
   "metadata": {},
   "outputs": [],
   "source": [
    "# the name of the station where most rentals ended.\n"
   ]
  },
  {
   "cell_type": "code",
   "execution_count": null,
   "id": "156d4aec",
   "metadata": {},
   "outputs": [],
   "source": [
    "# number of stations for which the average duration ending at that station was\n",
    "# more than 10 minutes. \n"
   ]
  },
  {
   "cell_type": "markdown",
   "id": "ba4d97bc",
   "metadata": {},
   "source": [
    "## Drinks - More Table Review"
   ]
  },
  {
   "cell_type": "code",
   "execution_count": null,
   "id": "fc79eeae",
   "metadata": {},
   "outputs": [],
   "source": [
    "drinks = Table(['Drink', 'Cafe', 'Price']).with_rows([\n",
    "    ['Milk Tea', 'Tea One', 4],\n",
    "    ['Espresso', 'Nefeli',  2],\n",
    "    ['Coffee',    'Nefeli', 3],\n",
    "    ['Espresso', \"Abe's\",   2]\n",
    "])\n",
    "drinks"
   ]
  },
  {
   "cell_type": "code",
   "execution_count": null,
   "id": "c7f11641",
   "metadata": {},
   "outputs": [],
   "source": [
    "discounts = Table().with_columns(\n",
    "    'Coupon % off', make_array(5, 50, 25),\n",
    "    'Location', make_array('Tea One', 'Nefeli', 'Tea One')\n",
    ")\n",
    "discounts"
   ]
  },
  {
   "cell_type": "code",
   "execution_count": null,
   "id": "d7aae2b5",
   "metadata": {},
   "outputs": [],
   "source": []
  },
  {
   "cell_type": "code",
   "execution_count": null,
   "id": "dd720dcf",
   "metadata": {},
   "outputs": [],
   "source": []
  },
  {
   "cell_type": "code",
   "execution_count": null,
   "id": "9ff0ba0a",
   "metadata": {},
   "outputs": [],
   "source": []
  },
  {
   "cell_type": "markdown",
   "id": "6b4e762a",
   "metadata": {},
   "source": [
    "## Comparisons and Booleans"
   ]
  },
  {
   "cell_type": "code",
   "execution_count": null,
   "id": "9f72feb3",
   "metadata": {},
   "outputs": [],
   "source": []
  },
  {
   "cell_type": "code",
   "execution_count": null,
   "id": "1de51051",
   "metadata": {},
   "outputs": [],
   "source": []
  },
  {
   "cell_type": "code",
   "execution_count": null,
   "id": "bbc663b7",
   "metadata": {},
   "outputs": [],
   "source": []
  },
  {
   "cell_type": "code",
   "execution_count": null,
   "id": "cf176203",
   "metadata": {},
   "outputs": [],
   "source": []
  },
  {
   "cell_type": "code",
   "execution_count": null,
   "id": "0cde3a70",
   "metadata": {},
   "outputs": [],
   "source": [
    "pop = ('http://www2.census.gov/programs-surveys/popest/datasets/2010-2015/national/asrh/nc-est2015-agesex-res.csv')\n",
    "full_census_table = Table.read_table(pop)\n",
    "partial = full_census_table.select('SEX', 'AGE', 'POPESTIMATE2010', 'POPESTIMATE2015')\n",
    "us_pop = partial.relabeled(2, '2010').relabeled(3, '2015')\n",
    "us_pop"
   ]
  },
  {
   "cell_type": "code",
   "execution_count": null,
   "id": "37969529",
   "metadata": {},
   "outputs": [],
   "source": [
    "us_pop.where('AGE', 70)"
   ]
  },
  {
   "cell_type": "code",
   "execution_count": null,
   "id": "fc117950",
   "metadata": {},
   "outputs": [],
   "source": []
  },
  {
   "cell_type": "code",
   "execution_count": null,
   "id": "66022867",
   "metadata": {},
   "outputs": [],
   "source": []
  },
  {
   "cell_type": "code",
   "execution_count": null,
   "id": "44f69730",
   "metadata": {},
   "outputs": [],
   "source": [
    "us_pop.column('2015') / us_pop.column('2010') "
   ]
  },
  {
   "cell_type": "code",
   "execution_count": null,
   "id": "af4041f7",
   "metadata": {},
   "outputs": [],
   "source": []
  },
  {
   "cell_type": "code",
   "execution_count": null,
   "id": "7dcacf4d",
   "metadata": {},
   "outputs": [],
   "source": [
    "# Let's do one more table with advanced where\n",
    "duration"
   ]
  },
  {
   "cell_type": "code",
   "execution_count": null,
   "id": "bfcc15bc",
   "metadata": {},
   "outputs": [],
   "source": [
    "# The average duration of trips that started and ended at the same station\n",
    "np.average(duration.column(2))"
   ]
  },
  {
   "cell_type": "code",
   "execution_count": null,
   "id": "749e52f8",
   "metadata": {},
   "outputs": [],
   "source": [
    "# The average duration of trips that started and ended at the same station\n",
    "np.average(duration.where(duration.column(0) == duration.column(1)).column(2))"
   ]
  },
  {
   "cell_type": "code",
   "execution_count": null,
   "id": "6fca3b56",
   "metadata": {},
   "outputs": [],
   "source": [
    "# The average duration of trips that started and ended at different stations\n",
    "np.average(duration.where(duration.column(0) != duration.column(1)).column(2))"
   ]
  },
  {
   "cell_type": "markdown",
   "id": "8f120af2",
   "metadata": {},
   "source": [
    "## Comparison and bool values"
   ]
  },
  {
   "cell_type": "code",
   "execution_count": null,
   "id": "af19fe13",
   "metadata": {},
   "outputs": [],
   "source": [
    "# comparing numbers \n"
   ]
  },
  {
   "cell_type": "code",
   "execution_count": null,
   "id": "cc066609",
   "metadata": {},
   "outputs": [],
   "source": []
  },
  {
   "cell_type": "code",
   "execution_count": null,
   "id": "bb0d2dd3",
   "metadata": {},
   "outputs": [],
   "source": [
    "# What about strings?\n"
   ]
  },
  {
   "cell_type": "code",
   "execution_count": null,
   "id": "63173b44",
   "metadata": {},
   "outputs": [],
   "source": [
    "# Let's try writing a function\n",
    "\n"
   ]
  },
  {
   "cell_type": "code",
   "execution_count": null,
   "id": "ae8e4bd1",
   "metadata": {},
   "outputs": [],
   "source": [
    "\n"
   ]
  },
  {
   "cell_type": "markdown",
   "id": "73ed8d94",
   "metadata": {},
   "source": [
    "## Combining Bool Values"
   ]
  },
  {
   "cell_type": "code",
   "execution_count": null,
   "id": "bec9b569",
   "metadata": {},
   "outputs": [],
   "source": [
    "x = 3\n",
    "y = 4"
   ]
  },
  {
   "cell_type": "code",
   "execution_count": null,
   "id": "970a17d9",
   "metadata": {},
   "outputs": [],
   "source": [
    "x < 2 or y > 5"
   ]
  },
  {
   "cell_type": "code",
   "execution_count": null,
   "id": "a619298b",
   "metadata": {},
   "outputs": [],
   "source": [
    "x < 2 or y > 3"
   ]
  },
  {
   "cell_type": "code",
   "execution_count": null,
   "id": "4f628a87",
   "metadata": {},
   "outputs": [],
   "source": [
    "x < 2 and y > 3"
   ]
  },
  {
   "cell_type": "markdown",
   "id": "e7ad4613",
   "metadata": {},
   "source": [
    "Aggregating bool values"
   ]
  },
  {
   "cell_type": "code",
   "execution_count": null,
   "id": "f42cb0fe",
   "metadata": {},
   "outputs": [],
   "source": [
    "True + True"
   ]
  },
  {
   "cell_type": "code",
   "execution_count": null,
   "id": "3f1f3da0",
   "metadata": {},
   "outputs": [],
   "source": [
    "ages"
   ]
  },
  {
   "cell_type": "code",
   "execution_count": null,
   "id": "23405bc1",
   "metadata": {},
   "outputs": [],
   "source": [
    "ages.column(1)"
   ]
  },
  {
   "cell_type": "code",
   "execution_count": null,
   "id": "25f7a808",
   "metadata": {},
   "outputs": [],
   "source": [
    "sum(ages.column(1))"
   ]
  },
  {
   "cell_type": "markdown",
   "id": "9f5ca8fc",
   "metadata": {},
   "source": [
    "Predicates"
   ]
  },
  {
   "cell_type": "code",
   "execution_count": null,
   "id": "f19a5448",
   "metadata": {},
   "outputs": [],
   "source": [
    "# create a predicate for \"still young\" "
   ]
  },
  {
   "cell_type": "code",
   "execution_count": null,
   "id": "dc03a1bc",
   "metadata": {},
   "outputs": [],
   "source": []
  },
  {
   "cell_type": "code",
   "execution_count": null,
   "id": "a5a1dca7",
   "metadata": {},
   "outputs": [],
   "source": []
  },
  {
   "cell_type": "code",
   "execution_count": null,
   "id": "e3d9ab81",
   "metadata": {},
   "outputs": [],
   "source": []
  },
  {
   "cell_type": "code",
   "execution_count": null,
   "id": "e8c11605",
   "metadata": {},
   "outputs": [],
   "source": []
  },
  {
   "cell_type": "code",
   "execution_count": null,
   "id": "9955c474",
   "metadata": {},
   "outputs": [],
   "source": []
  },
  {
   "cell_type": "code",
   "execution_count": null,
   "id": "6565ed81",
   "metadata": {},
   "outputs": [],
   "source": []
  },
  {
   "cell_type": "markdown",
   "id": "689f33bf",
   "metadata": {},
   "source": [
    "## Choice"
   ]
  },
  {
   "cell_type": "code",
   "execution_count": null,
   "id": "c88a0022",
   "metadata": {},
   "outputs": [],
   "source": [
    "two_groups = make_array('treatment', 'control')\n",
    "np.random.choice(two_groups)"
   ]
  },
  {
   "cell_type": "code",
   "execution_count": null,
   "id": "c7938722",
   "metadata": {},
   "outputs": [],
   "source": []
  },
  {
   "cell_type": "code",
   "execution_count": null,
   "id": "a3afd2c9",
   "metadata": {},
   "outputs": [],
   "source": []
  },
  {
   "cell_type": "code",
   "execution_count": null,
   "id": "e70e1c84",
   "metadata": {},
   "outputs": [],
   "source": []
  },
  {
   "cell_type": "code",
   "execution_count": null,
   "id": "d2582e7f",
   "metadata": {},
   "outputs": [],
   "source": []
  },
  {
   "cell_type": "code",
   "execution_count": null,
   "id": "c6d7b40f",
   "metadata": {},
   "outputs": [],
   "source": []
  },
  {
   "cell_type": "code",
   "execution_count": null,
   "id": "3d78f76f",
   "metadata": {},
   "outputs": [],
   "source": []
  },
  {
   "cell_type": "code",
   "execution_count": null,
   "id": "f3d9d4ff",
   "metadata": {},
   "outputs": [],
   "source": []
  },
  {
   "cell_type": "code",
   "execution_count": null,
   "id": "56cc645d",
   "metadata": {},
   "outputs": [],
   "source": []
  }
 ],
 "metadata": {
  "kernelspec": {
   "display_name": "Python 3 (ipykernel)",
   "language": "python",
   "name": "python3"
  },
  "language_info": {
   "codemirror_mode": {
    "name": "ipython",
    "version": 3
   },
   "file_extension": ".py",
   "mimetype": "text/x-python",
   "name": "python",
   "nbconvert_exporter": "python",
   "pygments_lexer": "ipython3",
   "version": "3.7.8"
  }
 },
 "nbformat": 4,
 "nbformat_minor": 5
}
