{
 "cells": [
  {
   "cell_type": "code",
   "execution_count": null,
   "metadata": {},
   "outputs": [],
   "source": [
    "# Stuff that will appear at the top of notebooks;\n",
    "# You don't have to understand how this works or change it for now.\n",
    "\n",
    "from datascience import *\n",
    "import numpy as np\n",
    "%matplotlib inline\n",
    "import matplotlib.pyplot as plots\n",
    "plots.style.use('fivethirtyeight')\n",
    "import warnings\n",
    "warnings.simplefilter(action=\"ignore\", category=FutureWarning)\n",
    "\n",
    "from urllib.request import urlopen \n",
    "import re\n",
    "def read_url(url): \n",
    "    return re.sub('\\\\s+', ' ', urlopen(url).read().decode())"
   ]
  },
  {
   "cell_type": "markdown",
   "metadata": {},
   "source": [
    "# Demo: let's look at 2 classics novels\n",
    "This is from example in book section 1.3"
   ]
  },
  {
   "cell_type": "code",
   "execution_count": null,
   "metadata": {},
   "outputs": [],
   "source": [
    "# Read two books, fast!\n",
    "\n",
    "huck_finn_url = 'https://www.inferentialthinking.com/data/huck_finn.txt'\n",
    "# Read the book and save it as a string\n",
    "huck_finn_text = read_url(huck_finn_url)\n",
    "#Split the book up by chapter and save the chapters as separate strings in a list                \n",
    "huck_finn_chapters = huck_finn_text.split('CHAPTER ')[44:]\n",
    "\n",
    "little_women_url = 'https://www.inferentialthinking.com/data/little_women.txt'\n",
    "little_women_text = read_url(little_women_url)\n",
    "little_women_chapters = little_women_text.split('CHAPTER ')[1:]"
   ]
  },
  {
   "cell_type": "code",
   "execution_count": null,
   "metadata": {},
   "outputs": [],
   "source": [
    "huck_finn_chapters"
   ]
  },
  {
   "cell_type": "code",
   "execution_count": null,
   "metadata": {},
   "outputs": [],
   "source": [
    "np.char.count(huck_finn_chapters, 'Tom')"
   ]
  },
  {
   "cell_type": "code",
   "execution_count": 5,
   "metadata": {},
   "outputs": [],
   "source": [
    "# TODO: let's count how many times Jim is mentioned"
   ]
  },
  {
   "cell_type": "code",
   "execution_count": null,
   "metadata": {},
   "outputs": [],
   "source": [
    "# TODO: create a table with counts: Count how many times the names Jim, Tom, and Huck appear in each chapter \n",
    "counts = ...\n"
   ]
  },
  {
   "cell_type": "code",
   "execution_count": null,
   "metadata": {},
   "outputs": [],
   "source": [
    "# Plot the cumulative counts:\n",
    "# how many times in Chapter 1, how many times in Chapters 1 and 2, and so on.\n",
    "\n",
    "cum_counts = counts.cumsum().with_column('Chapter', np.arange(1, 44, 1))\n",
    "cum_counts.plot(column_for_xticks=3)\n",
    "plots.title('Cumulative Number of Times Name Appears');"
   ]
  },
  {
   "cell_type": "markdown",
   "metadata": {},
   "source": [
    "# Basic Python arithmatic\n",
    "Let's add, divide, multiply, etc."
   ]
  },
  {
   "cell_type": "code",
   "execution_count": null,
   "metadata": {},
   "outputs": [],
   "source": [
    "#TODO: add some basic python arithmatic\n"
   ]
  },
  {
   "cell_type": "code",
   "execution_count": null,
   "metadata": {},
   "outputs": [],
   "source": [
    "#TODO add example of nested function call\n"
   ]
  },
  {
   "cell_type": "markdown",
   "metadata": {},
   "source": [
    "## Tables\n",
    "- Let's visualize the chapters in a table\n",
    "- Create a Table with column Chapter\n",
    "- What would be interesting to explore? \n",
    "- How about counting the number of times the word 'Christmas' is found in the book?"
   ]
  },
  {
   "cell_type": "code",
   "execution_count": null,
   "metadata": {},
   "outputs": [],
   "source": [
    "#TODO: create a table with chapters in Little Women book"
   ]
  },
  {
   "cell_type": "code",
   "execution_count": null,
   "metadata": {},
   "outputs": [],
   "source": []
  },
  {
   "cell_type": "code",
   "execution_count": null,
   "metadata": {},
   "outputs": [],
   "source": [
    "# TODO: Let's visualize the chapters of Little Women using a table\n"
   ]
  },
  {
   "cell_type": "code",
   "execution_count": null,
   "metadata": {},
   "outputs": [],
   "source": []
  },
  {
   "cell_type": "code",
   "execution_count": null,
   "metadata": {},
   "outputs": [],
   "source": [
    "# TODO: Let's count the names of the characters in the chapters and create a table of counts for each chapter\n",
    "# Character are 'Amy', 'Beth', 'Jo', 'Laurie', 'Meg'\n",
    "counts = ..."
   ]
  },
  {
   "cell_type": "code",
   "execution_count": null,
   "metadata": {},
   "outputs": [],
   "source": [
    "# TODO: Plot the cumulative counts\n",
    "\n",
    "cum_counts = ..."
   ]
  },
  {
   "cell_type": "code",
   "execution_count": null,
   "metadata": {},
   "outputs": [],
   "source": []
  },
  {
   "cell_type": "code",
   "execution_count": null,
   "metadata": {},
   "outputs": [],
   "source": []
  },
  {
   "cell_type": "markdown",
   "metadata": {},
   "source": [
    "# Another Table Demo: How many periods in a chapter?"
   ]
  },
  {
   "cell_type": "code",
   "execution_count": null,
   "metadata": {},
   "outputs": [],
   "source": [
    "# In each chapter, count the number of all characters;\n",
    "# call this the \"length\" of the chapter.\n",
    "# Also count the number of periods.\n",
    "\n",
    "chars_periods_hf = Table().with_columns([\n",
    "        'HF Chapter Length', [len(s) for s in huck_finn_chapters],\n",
    "        'Number of Periods', np.char.count(huck_finn_chapters, '.')\n",
    "    ])\n",
    "chars_periods_lw = Table().with_columns([\n",
    "        'LW Chapter Length', [len(s) for s in little_women_chapters],\n",
    "        'Number of Periods', np.char.count(little_women_chapters, '.')\n",
    "    ])"
   ]
  },
  {
   "cell_type": "code",
   "execution_count": null,
   "metadata": {},
   "outputs": [],
   "source": [
    "# The counts for Huckleberry Finn\n",
    "\n",
    "chars_periods_hf"
   ]
  },
  {
   "cell_type": "code",
   "execution_count": null,
   "metadata": {},
   "outputs": [],
   "source": [
    "# The counts for Little Women\n",
    "\n",
    "chars_periods_lw"
   ]
  },
  {
   "cell_type": "code",
   "execution_count": null,
   "metadata": {},
   "outputs": [],
   "source": [
    "plots.figure(figsize=(10,10))\n",
    "plots.scatter(chars_periods_hf[1], chars_periods_hf[0], color='darkblue')\n",
    "plots.scatter(chars_periods_lw[1], chars_periods_lw[0], color='gold')\n",
    "plots.xlabel('Number of periods in chapter')\n",
    "plots.ylabel('Number of characters in chapter');"
   ]
  },
  {
   "cell_type": "markdown",
   "metadata": {},
   "source": [
    "# On Average what appears to be the sentence length?"
   ]
  },
  {
   "cell_type": "code",
   "execution_count": null,
   "metadata": {},
   "outputs": [],
   "source": []
  },
  {
   "cell_type": "code",
   "execution_count": null,
   "metadata": {},
   "outputs": [],
   "source": []
  },
  {
   "cell_type": "markdown",
   "metadata": {},
   "source": [
    "# Let's visualize categorical distribution\n",
    "Let's make some imaginary data representing the ice cream inventory of a shop for this demo"
   ]
  },
  {
   "cell_type": "code",
   "execution_count": null,
   "metadata": {},
   "outputs": [],
   "source": [
    "#TODO: create an array of icecream flavors\n",
    "#TODO: create an array of integers representing the inventory of an icecream shop\n"
   ]
  },
  {
   "cell_type": "markdown",
   "metadata": {},
   "source": [
    "### What would be a good way to visualize this data?\n",
    "Let's try a bar chart using barh()"
   ]
  },
  {
   "cell_type": "markdown",
   "metadata": {},
   "source": [
    "### Another example: Reading in a Table from a comma seperated value (.csv) file"
   ]
  },
  {
   "cell_type": "markdown",
   "metadata": {},
   "source": [
    "The table `California_airquality.csv` contains data on air quality in California 1/1/2020 through 9/10/2020 of the air quality index in California as measured by PM2.5, the main pollutant from fire (data is from 2 sources: AQS, AirNow). I found the dataset on Kaggle, direct link here:https://www.kaggle.com/thaddeussegura/california-air-quality-2020-through-sept10th. Kaggle is an open source/free platform where anyone interested in data science can share code and data sets (https://www.kaggle.com/datasets)."
   ]
  },
  {
   "cell_type": "code",
   "execution_count": null,
   "metadata": {},
   "outputs": [],
   "source": [
    "CalAQI = Table.read_table('California_airquality.csv')\n",
    "CalAQI"
   ]
  },
  {
   "cell_type": "markdown",
   "metadata": {},
   "source": [
    "### Table operations\n",
    "Selecting specific columns;\n",
    "Sorting the data;\n",
    "Finding where a specific value in a column is set to value of interest:\n",
    "for example, let's see if we can find Site Name = SB"
   ]
  },
  {
   "cell_type": "code",
   "execution_count": null,
   "metadata": {},
   "outputs": [],
   "source": []
  }
 ],
 "metadata": {
  "anaconda-cloud": {},
  "celltoolbar": "Raw Cell Format",
  "kernelspec": {
   "display_name": "Python 3",
   "language": "python",
   "name": "python3"
  },
  "language_info": {
   "codemirror_mode": {
    "name": "ipython",
    "version": 3
   },
   "file_extension": ".py",
   "mimetype": "text/x-python",
   "name": "python",
   "nbconvert_exporter": "python",
   "pygments_lexer": "ipython3",
   "version": "3.9.1"
  }
 },
 "nbformat": 4,
 "nbformat_minor": 1
}
