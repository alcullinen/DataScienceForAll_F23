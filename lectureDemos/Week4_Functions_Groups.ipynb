{
 "cells": [
  {
   "cell_type": "markdown",
   "id": "24b0844f",
   "metadata": {},
   "source": [
    "## Comparing Histograms"
   ]
  },
  {
   "cell_type": "markdown",
   "id": "be66e00b",
   "metadata": {},
   "source": [
    "We will start by looking at data from the Big 5 European Soccer Leagues for the 1995/96 to 2019/20 seasons. "
   ]
  },
  {
   "cell_type": "code",
   "execution_count": null,
   "id": "01ef7f31",
   "metadata": {},
   "outputs": [],
   "source": [
    "from datascience import *\n",
    "import numpy as np\n",
    "\n",
    "%matplotlib inline\n",
    "import matplotlib.pyplot as plots\n",
    "plots.style.use('fivethirtyeight')"
   ]
  },
  {
   "cell_type": "code",
   "execution_count": null,
   "id": "9070ff01",
   "metadata": {},
   "outputs": [],
   "source": [
    "#Load data\n",
    "goals = Table.read_table('big5.csv').select(3, 9, 6, 10)\n",
    "goals"
   ]
  },
  {
   "cell_type": "code",
   "execution_count": null,
   "id": "06d8ab5e",
   "metadata": {},
   "outputs": [],
   "source": [
    "#relabel the columns\n",
    "goals = goals.relabeled(1, 'Home').relabeled(3, 'Away')\n",
    "goals"
   ]
  },
  {
   "cell_type": "code",
   "execution_count": null,
   "id": "4a0a2c6d",
   "metadata": {
    "scrolled": true
   },
   "outputs": [],
   "source": [
    "# Look at the distribution of goals scored by the home team... what is unit? what is the bin spacing?\n",
    "goals.hist('Home')"
   ]
  },
  {
   "cell_type": "code",
   "execution_count": null,
   "id": "33da33ea",
   "metadata": {},
   "outputs": [],
   "source": [
    "# Is there a home team advantage?\n",
    "\n",
    "goals.hist([1, 3], unit = 'goals', bins = np.arange(0, 10, 0.5))"
   ]
  },
  {
   "cell_type": "code",
   "execution_count": null,
   "id": "7a9634eb",
   "metadata": {},
   "outputs": [],
   "source": [
    "climate = Table.read_table('NOAA.csv').relabeled(5, '1948').relabeled(6, '2018')\n",
    "climate"
   ]
  },
  {
   "cell_type": "code",
   "execution_count": null,
   "id": "b164df8d",
   "metadata": {
    "scrolled": true
   },
   "outputs": [],
   "source": [
    "climate.hist(5, 6, unit = 'days above 90 degrees F', bins = (np.arange(0, 150, 10)))"
   ]
  },
  {
   "cell_type": "code",
   "execution_count": null,
   "id": "02e107e3",
   "metadata": {},
   "outputs": [],
   "source": []
  },
  {
   "cell_type": "markdown",
   "id": "b92044ff",
   "metadata": {},
   "source": [
    "## Defining Functions"
   ]
  },
  {
   "cell_type": "code",
   "execution_count": null,
   "id": "961b1762",
   "metadata": {
    "scrolled": true
   },
   "outputs": [],
   "source": [
    "def data_range(values):\n",
    "    return max(values) - min(values)"
   ]
  },
  {
   "cell_type": "code",
   "execution_count": null,
   "id": "19ca888c",
   "metadata": {},
   "outputs": [],
   "source": [
    "#let's do a few more\n"
   ]
  },
  {
   "cell_type": "code",
   "execution_count": null,
   "id": "14a591cc",
   "metadata": {},
   "outputs": [],
   "source": [
    "# How to write a function.  Step 1, write the body"
   ]
  },
  {
   "cell_type": "code",
   "execution_count": null,
   "id": "09a70767",
   "metadata": {},
   "outputs": [],
   "source": [
    "# Step 2 now use our def statement and take what we need, and specify what it will return."
   ]
  },
  {
   "cell_type": "code",
   "execution_count": null,
   "id": "5e02629a",
   "metadata": {},
   "outputs": [],
   "source": [
    "# Does this function change our original array?  "
   ]
  },
  {
   "cell_type": "code",
   "execution_count": null,
   "id": "21d16e1d",
   "metadata": {},
   "outputs": [],
   "source": [
    "# What happens when we pass a number to this function? "
   ]
  },
  {
   "cell_type": "code",
   "execution_count": null,
   "id": "6cb4c1df",
   "metadata": {},
   "outputs": [],
   "source": [
    "# Let's add a helpful description"
   ]
  },
  {
   "cell_type": "code",
   "execution_count": null,
   "id": "0257f1f5",
   "metadata": {},
   "outputs": [],
   "source": []
  },
  {
   "cell_type": "code",
   "execution_count": null,
   "id": "5d275286",
   "metadata": {},
   "outputs": [],
   "source": [
    "# can we add arguments?  What happens if we forget to set those arguments when we call the function?"
   ]
  },
  {
   "cell_type": "code",
   "execution_count": null,
   "id": "4417741a",
   "metadata": {},
   "outputs": [],
   "source": []
  },
  {
   "cell_type": "code",
   "execution_count": null,
   "id": "15e55476",
   "metadata": {},
   "outputs": [],
   "source": []
  },
  {
   "cell_type": "markdown",
   "id": "242106b0",
   "metadata": {},
   "source": [
    "## Apply"
   ]
  },
  {
   "cell_type": "code",
   "execution_count": null,
   "id": "be944830",
   "metadata": {},
   "outputs": [],
   "source": [
    "# define a function called \"cut off at a billion\"\n"
   ]
  },
  {
   "cell_type": "code",
   "execution_count": null,
   "id": "8344fab4",
   "metadata": {},
   "outputs": [],
   "source": []
  },
  {
   "cell_type": "code",
   "execution_count": null,
   "id": "1c8f6a7d",
   "metadata": {},
   "outputs": [],
   "source": []
  },
  {
   "cell_type": "code",
   "execution_count": null,
   "id": "2259f0fa",
   "metadata": {},
   "outputs": [],
   "source": []
  },
  {
   "cell_type": "code",
   "execution_count": null,
   "id": "7364b8ba",
   "metadata": {},
   "outputs": [],
   "source": [
    "# now use Apply to apply this function to a table we have already seen:\n",
    "Table.read_table('top_movies_2017.csv')"
   ]
  },
  {
   "cell_type": "code",
   "execution_count": null,
   "id": "a6bff182",
   "metadata": {},
   "outputs": [],
   "source": []
  },
  {
   "cell_type": "code",
   "execution_count": null,
   "id": "b9be3ca0",
   "metadata": {},
   "outputs": [],
   "source": []
  },
  {
   "cell_type": "markdown",
   "id": "d3372797",
   "metadata": {},
   "source": [
    "## Prediction Example"
   ]
  },
  {
   "cell_type": "code",
   "execution_count": null,
   "id": "853be6ea",
   "metadata": {},
   "outputs": [],
   "source": [
    "height = Table.read_table('galton.csv').select(1, 2, 7).relabeled(2, 'child')\n",
    "height"
   ]
  },
  {
   "cell_type": "code",
   "execution_count": null,
   "id": "7e8d6144",
   "metadata": {},
   "outputs": [],
   "source": [
    "# visualize with a scatterplot - setting the child's height to be the horizontal variable\n"
   ]
  },
  {
   "cell_type": "code",
   "execution_count": null,
   "id": "9dc4dd68",
   "metadata": {},
   "outputs": [],
   "source": [
    "# Compute the average height of both parents\n"
   ]
  },
  {
   "cell_type": "code",
   "execution_count": null,
   "id": "edc39ec9",
   "metadata": {},
   "outputs": [],
   "source": [
    "\n"
   ]
  },
  {
   "cell_type": "code",
   "execution_count": null,
   "id": "fe3c40a0",
   "metadata": {},
   "outputs": [],
   "source": [
    "close_to_68 = \n",
    "close_to_68"
   ]
  },
  {
   "cell_type": "code",
   "execution_count": null,
   "id": "947f0fca",
   "metadata": {},
   "outputs": [],
   "source": []
  },
  {
   "cell_type": "code",
   "execution_count": null,
   "id": "5c2ad9f6",
   "metadata": {},
   "outputs": [],
   "source": []
  },
  {
   "cell_type": "code",
   "execution_count": null,
   "id": "208df840",
   "metadata": {},
   "outputs": [],
   "source": []
  },
  {
   "cell_type": "code",
   "execution_count": null,
   "id": "52f382e4",
   "metadata": {},
   "outputs": [],
   "source": []
  },
  {
   "cell_type": "code",
   "execution_count": null,
   "id": "c6262d95",
   "metadata": {},
   "outputs": [],
   "source": []
  },
  {
   "cell_type": "markdown",
   "id": "37c1d00a",
   "metadata": {},
   "source": [
    "## Groups"
   ]
  },
  {
   "cell_type": "code",
   "execution_count": null,
   "id": "9934992f",
   "metadata": {},
   "outputs": [],
   "source": [
    "# load cones.csv\n",
    "all_cones = Table.read_table('cones.csv')\n",
    "cones = all_cones.drop('Color').exclude(5)\n",
    "cones"
   ]
  },
  {
   "cell_type": "code",
   "execution_count": null,
   "id": "ba193b0d",
   "metadata": {},
   "outputs": [],
   "source": [
    "# group by 'Flavor'"
   ]
  },
  {
   "cell_type": "code",
   "execution_count": null,
   "id": "f8a56215",
   "metadata": {},
   "outputs": [],
   "source": [
    "# add a second argument to see what else group can do."
   ]
  },
  {
   "cell_type": "code",
   "execution_count": null,
   "id": "c7478411",
   "metadata": {},
   "outputs": [],
   "source": []
  },
  {
   "cell_type": "code",
   "execution_count": null,
   "id": "a8d26e2a",
   "metadata": {},
   "outputs": [],
   "source": []
  },
  {
   "cell_type": "code",
   "execution_count": null,
   "id": "1645d356",
   "metadata": {},
   "outputs": [],
   "source": []
  },
  {
   "cell_type": "code",
   "execution_count": null,
   "id": "fab7aa68",
   "metadata": {},
   "outputs": [],
   "source": [
    "nba = Table.read_table('nba_salaries.csv').relabeled(3, 'SALARY')\n",
    "nba"
   ]
  },
  {
   "cell_type": "code",
   "execution_count": null,
   "id": "32b5d8f0",
   "metadata": {},
   "outputs": [],
   "source": [
    "# let's focus on teams and how much they paid in salaries... can I just use group as is? "
   ]
  },
  {
   "cell_type": "code",
   "execution_count": null,
   "id": "86742cb5",
   "metadata": {},
   "outputs": [],
   "source": []
  },
  {
   "cell_type": "code",
   "execution_count": null,
   "id": "195f03ec",
   "metadata": {},
   "outputs": [],
   "source": []
  },
  {
   "cell_type": "code",
   "execution_count": null,
   "id": "b872eef2",
   "metadata": {},
   "outputs": [],
   "source": []
  },
  {
   "cell_type": "code",
   "execution_count": null,
   "id": "a26bd0cb",
   "metadata": {},
   "outputs": [],
   "source": []
  },
  {
   "cell_type": "markdown",
   "id": "1128161f",
   "metadata": {},
   "source": [
    "## Grouping by Multiple Columns"
   ]
  },
  {
   "cell_type": "code",
   "execution_count": null,
   "id": "ac02bdf3",
   "metadata": {},
   "outputs": [],
   "source": [
    "#before looking at salary per position per team, first revisit cones\n",
    "all_cones"
   ]
  },
  {
   "cell_type": "code",
   "execution_count": null,
   "id": "4ff70f2c",
   "metadata": {},
   "outputs": [],
   "source": [
    "# group by two attributes"
   ]
  },
  {
   "cell_type": "code",
   "execution_count": null,
   "id": "04d1a3c4",
   "metadata": {},
   "outputs": [],
   "source": []
  },
  {
   "cell_type": "code",
   "execution_count": null,
   "id": "a6b85bf1",
   "metadata": {},
   "outputs": [],
   "source": []
  },
  {
   "cell_type": "code",
   "execution_count": null,
   "id": "251b92f1",
   "metadata": {},
   "outputs": [],
   "source": [
    "#back to nba\n",
    "nba"
   ]
  },
  {
   "cell_type": "code",
   "execution_count": null,
   "id": "8fb85ba0",
   "metadata": {},
   "outputs": [],
   "source": []
  },
  {
   "cell_type": "code",
   "execution_count": null,
   "id": "99b3a0f5",
   "metadata": {},
   "outputs": [],
   "source": []
  },
  {
   "cell_type": "code",
   "execution_count": null,
   "id": "76b53013",
   "metadata": {},
   "outputs": [],
   "source": []
  },
  {
   "cell_type": "code",
   "execution_count": null,
   "id": "160f7fe1",
   "metadata": {},
   "outputs": [],
   "source": []
  },
  {
   "cell_type": "code",
   "execution_count": null,
   "id": "9246c07a",
   "metadata": {},
   "outputs": [],
   "source": []
  },
  {
   "cell_type": "code",
   "execution_count": null,
   "id": "3cad599f",
   "metadata": {},
   "outputs": [],
   "source": []
  },
  {
   "cell_type": "code",
   "execution_count": null,
   "id": "77bb6eed",
   "metadata": {},
   "outputs": [],
   "source": []
  },
  {
   "cell_type": "code",
   "execution_count": null,
   "id": "eb327fd0",
   "metadata": {},
   "outputs": [],
   "source": []
  },
  {
   "cell_type": "code",
   "execution_count": null,
   "id": "809697ad",
   "metadata": {},
   "outputs": [],
   "source": []
  },
  {
   "cell_type": "code",
   "execution_count": null,
   "id": "a9febc1c",
   "metadata": {},
   "outputs": [],
   "source": []
  },
  {
   "cell_type": "code",
   "execution_count": null,
   "id": "44661a93",
   "metadata": {},
   "outputs": [],
   "source": [
    "full_table = Table.read_table(path_data + 'educ_inc.csv')\n",
    "ca_2014 = full_table.where('Year', are.equal_to('1/1/14 0:00')).where('Age', are.not_equal_to('00 to 17'))\n",
    "ca_2014"
   ]
  },
  {
   "cell_type": "code",
   "execution_count": null,
   "id": "445d7030",
   "metadata": {},
   "outputs": [],
   "source": []
  }
 ],
 "metadata": {
  "kernelspec": {
   "display_name": "Python 3 (ipykernel)",
   "language": "python",
   "name": "python3"
  },
  "language_info": {
   "codemirror_mode": {
    "name": "ipython",
    "version": 3
   },
   "file_extension": ".py",
   "mimetype": "text/x-python",
   "name": "python",
   "nbconvert_exporter": "python",
   "pygments_lexer": "ipython3",
   "version": "3.7.8"
  }
 },
 "nbformat": 4,
 "nbformat_minor": 5
}
