{
 "cells": [
  {
   "cell_type": "markdown",
   "id": "98b16ef1",
   "metadata": {},
   "source": [
    "## Census Data"
   ]
  },
  {
   "cell_type": "markdown",
   "id": "20226e26",
   "metadata": {},
   "source": [
    "Let's look at the 5 year period between 2010 and 2015 to see what is happening.\n",
    "https://www2.census.gov/programs-surveys/popest/datasets/2010-2015/national/asrh/"
   ]
  },
  {
   "cell_type": "code",
   "execution_count": 1,
   "id": "277adf30",
   "metadata": {},
   "outputs": [],
   "source": [
    "from datascience import *\n",
    "import numpy as np\n",
    "\n",
    "%matplotlib inline\n",
    "import matplotlib.pyplot as plots\n",
    "plots.style.use('fivethirtyeight')"
   ]
  },
  {
   "cell_type": "code",
   "execution_count": null,
   "id": "31b01ece",
   "metadata": {},
   "outputs": [],
   "source": [
    "# Let's load the smallest comma separated values (.csv) file from this directory. \n",
    "# We can create a string called \"data\" which contains the address.\n",
    "\n",
    "data = "
   ]
  },
  {
   "cell_type": "code",
   "execution_count": null,
   "id": "459fd2f6",
   "metadata": {},
   "outputs": [],
   "source": [
    "# Let's look at how the US population has changed between 2010 and 2015\n",
    "\n",
    "partial = "
   ]
  },
  {
   "cell_type": "code",
   "execution_count": null,
   "id": "27dc77fe",
   "metadata": {},
   "outputs": [],
   "source": [
    "# Relabeling columns with table.relabeled()\n"
   ]
  },
  {
   "cell_type": "code",
   "execution_count": null,
   "id": "dbaa3888",
   "metadata": {},
   "outputs": [],
   "source": [
    "#Set the format for easier number reading\n"
   ]
  },
  {
   "cell_type": "markdown",
   "id": "518a029f",
   "metadata": {},
   "source": [
    "Column arithmetic"
   ]
  },
  {
   "cell_type": "code",
   "execution_count": null,
   "id": "83f2997f",
   "metadata": {},
   "outputs": [],
   "source": [
    "# What is the difference between the values of the ages in 2015 and 2010?\n"
   ]
  },
  {
   "cell_type": "code",
   "execution_count": null,
   "id": "89e23594",
   "metadata": {},
   "outputs": [],
   "source": [
    "# make a new table that includes this new info\n"
   ]
  },
  {
   "cell_type": "markdown",
   "id": "440edc2d",
   "metadata": {},
   "source": [
    "## Accessing Values"
   ]
  },
  {
   "cell_type": "code",
   "execution_count": null,
   "id": "1b2f3005",
   "metadata": {},
   "outputs": [],
   "source": [
    "# Sort by \"Change\"\n"
   ]
  },
  {
   "cell_type": "code",
   "execution_count": null,
   "id": "772f7291",
   "metadata": {},
   "outputs": [],
   "source": [
    "# what is the annual growth between 2015 and 2010?\n",
    "# g = (changed / initial)**(1/t) - 1\n"
   ]
  },
  {
   "cell_type": "code",
   "execution_count": null,
   "id": "b10e560e",
   "metadata": {},
   "outputs": [],
   "source": [
    "# we can access these values directly though!!\n"
   ]
  },
  {
   "cell_type": "code",
   "execution_count": null,
   "id": "5e4ef3d0",
   "metadata": {},
   "outputs": [],
   "source": []
  },
  {
   "cell_type": "code",
   "execution_count": null,
   "id": "323ed9d5",
   "metadata": {},
   "outputs": [],
   "source": []
  },
  {
   "cell_type": "code",
   "execution_count": null,
   "id": "1621e736",
   "metadata": {},
   "outputs": [],
   "source": [
    "# Let’s get rid of these rows that include totals of all ages and let’s also look at just the 2015 population. \n"
   ]
  },
  {
   "cell_type": "code",
   "execution_count": null,
   "id": "2228d978",
   "metadata": {},
   "outputs": [],
   "source": [
    "#  Let’s double check for not double-counting\n"
   ]
  },
  {
   "cell_type": "code",
   "execution_count": null,
   "id": "0b460d2c",
   "metadata": {},
   "outputs": [],
   "source": []
  },
  {
   "cell_type": "code",
   "execution_count": null,
   "id": "98317732",
   "metadata": {},
   "outputs": [],
   "source": [
    "# use .row and .item to access values in order to compute a ratio\n"
   ]
  },
  {
   "cell_type": "markdown",
   "id": "e4b032e0",
   "metadata": {},
   "source": [
    "## Line Graphs"
   ]
  },
  {
   "cell_type": "code",
   "execution_count": null,
   "id": "f7e6453c",
   "metadata": {},
   "outputs": [],
   "source": [
    "#plot\n"
   ]
  },
  {
   "cell_type": "code",
   "execution_count": null,
   "id": "a1164752",
   "metadata": {},
   "outputs": [],
   "source": [
    "# Look at combined by age population,\n"
   ]
  },
  {
   "cell_type": "code",
   "execution_count": null,
   "id": "9ede9873",
   "metadata": {},
   "outputs": [],
   "source": [
    "# plot\n"
   ]
  },
  {
   "cell_type": "code",
   "execution_count": null,
   "id": "dc45b5bf",
   "metadata": {},
   "outputs": [],
   "source": [
    "# visualize the change\n"
   ]
  },
  {
   "cell_type": "code",
   "execution_count": null,
   "id": "01505769",
   "metadata": {},
   "outputs": [],
   "source": []
  },
  {
   "cell_type": "code",
   "execution_count": null,
   "id": "4b8390ba",
   "metadata": {},
   "outputs": [],
   "source": []
  },
  {
   "cell_type": "code",
   "execution_count": null,
   "id": "4da3a664",
   "metadata": {},
   "outputs": [],
   "source": [
    "# can we just specify the column on the x axis?"
   ]
  },
  {
   "cell_type": "code",
   "execution_count": null,
   "id": "fa1635b5",
   "metadata": {},
   "outputs": [],
   "source": []
  },
  {
   "cell_type": "markdown",
   "id": "e1545046",
   "metadata": {},
   "source": [
    "## Scatter plots"
   ]
  },
  {
   "cell_type": "code",
   "execution_count": null,
   "id": "5fabb493",
   "metadata": {},
   "outputs": [],
   "source": [
    "# Load data\n"
   ]
  },
  {
   "cell_type": "code",
   "execution_count": null,
   "id": "0baa1807",
   "metadata": {},
   "outputs": [],
   "source": []
  },
  {
   "cell_type": "code",
   "execution_count": null,
   "id": "0feccd6e",
   "metadata": {},
   "outputs": [],
   "source": []
  },
  {
   "cell_type": "code",
   "execution_count": null,
   "id": "a71802a0",
   "metadata": {},
   "outputs": [],
   "source": []
  },
  {
   "cell_type": "code",
   "execution_count": null,
   "id": "656165af",
   "metadata": {},
   "outputs": [],
   "source": []
  },
  {
   "cell_type": "code",
   "execution_count": null,
   "id": "9db264fa",
   "metadata": {},
   "outputs": [],
   "source": []
  },
  {
   "cell_type": "code",
   "execution_count": null,
   "id": "18ae89b3",
   "metadata": {},
   "outputs": [],
   "source": []
  },
  {
   "cell_type": "code",
   "execution_count": null,
   "id": "f5e99e11",
   "metadata": {},
   "outputs": [],
   "source": []
  },
  {
   "cell_type": "code",
   "execution_count": null,
   "id": "65682c73",
   "metadata": {},
   "outputs": [],
   "source": []
  },
  {
   "cell_type": "markdown",
   "id": "d35c95b3",
   "metadata": {},
   "source": [
    "## Categorical Data"
   ]
  },
  {
   "cell_type": "code",
   "execution_count": null,
   "id": "6ac7b41a",
   "metadata": {},
   "outputs": [],
   "source": []
  },
  {
   "cell_type": "code",
   "execution_count": null,
   "id": "63967128",
   "metadata": {},
   "outputs": [],
   "source": []
  },
  {
   "cell_type": "code",
   "execution_count": null,
   "id": "db2740bf",
   "metadata": {},
   "outputs": [],
   "source": []
  },
  {
   "cell_type": "code",
   "execution_count": null,
   "id": "e8f4a363",
   "metadata": {},
   "outputs": [],
   "source": []
  },
  {
   "cell_type": "code",
   "execution_count": null,
   "id": "8d4b85dd",
   "metadata": {},
   "outputs": [],
   "source": []
  },
  {
   "cell_type": "code",
   "execution_count": null,
   "id": "43595f4e",
   "metadata": {},
   "outputs": [],
   "source": []
  },
  {
   "cell_type": "code",
   "execution_count": null,
   "id": "209fa5c5",
   "metadata": {},
   "outputs": [],
   "source": []
  },
  {
   "cell_type": "code",
   "execution_count": null,
   "id": "5c2bba1d",
   "metadata": {},
   "outputs": [],
   "source": []
  }
 ],
 "metadata": {
  "kernelspec": {
   "display_name": "Python 3 (ipykernel)",
   "language": "python",
   "name": "python3"
  },
  "language_info": {
   "codemirror_mode": {
    "name": "ipython",
    "version": 3
   },
   "file_extension": ".py",
   "mimetype": "text/x-python",
   "name": "python",
   "nbconvert_exporter": "python",
   "pygments_lexer": "ipython3",
   "version": "3.7.8"
  }
 },
 "nbformat": 4,
 "nbformat_minor": 5
}
